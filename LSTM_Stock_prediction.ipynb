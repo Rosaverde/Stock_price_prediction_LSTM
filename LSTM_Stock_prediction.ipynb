{
 "cells": [
  {
   "cell_type": "code",
   "execution_count": 1,
   "metadata": {},
   "outputs": [],
   "source": [
    "import pandas as pd\n",
    "import numpy as np\n",
    "import math\n",
    "from sklearn.preprocessing import MinMaxScaler\n",
    "import matplotlib.pyplot as plt\n",
    "\n",
    "from keras.models import Sequential\n",
    "from keras.layers import Dense, LSTM"
   ]
  },
  {
   "cell_type": "code",
   "execution_count": 16,
   "metadata": {},
   "outputs": [
    {
     "data": {
      "text/html": [
       "<div>\n",
       "<style scoped>\n",
       "    .dataframe tbody tr th:only-of-type {\n",
       "        vertical-align: middle;\n",
       "    }\n",
       "\n",
       "    .dataframe tbody tr th {\n",
       "        vertical-align: top;\n",
       "    }\n",
       "\n",
       "    .dataframe thead th {\n",
       "        text-align: right;\n",
       "    }\n",
       "</style>\n",
       "<table border=\"1\" class=\"dataframe\">\n",
       "  <thead>\n",
       "    <tr style=\"text-align: right;\">\n",
       "      <th></th>\n",
       "      <th>Date</th>\n",
       "      <th>Open</th>\n",
       "      <th>High</th>\n",
       "      <th>Low</th>\n",
       "      <th>Close</th>\n",
       "      <th>Adj Close</th>\n",
       "      <th>Volume</th>\n",
       "    </tr>\n",
       "  </thead>\n",
       "  <tbody>\n",
       "    <tr>\n",
       "      <th>0</th>\n",
       "      <td>2013-07-22</td>\n",
       "      <td>10.660000</td>\n",
       "      <td>10.805000</td>\n",
       "      <td>10.630000</td>\n",
       "      <td>10.771667</td>\n",
       "      <td>10.771667</td>\n",
       "      <td>9570600</td>\n",
       "    </tr>\n",
       "    <tr>\n",
       "      <th>1</th>\n",
       "      <td>2013-07-23</td>\n",
       "      <td>10.768333</td>\n",
       "      <td>10.813333</td>\n",
       "      <td>10.648333</td>\n",
       "      <td>10.775000</td>\n",
       "      <td>10.775000</td>\n",
       "      <td>5768400</td>\n",
       "    </tr>\n",
       "    <tr>\n",
       "      <th>2</th>\n",
       "      <td>2013-07-24</td>\n",
       "      <td>10.775000</td>\n",
       "      <td>10.806667</td>\n",
       "      <td>10.398333</td>\n",
       "      <td>10.538333</td>\n",
       "      <td>10.538333</td>\n",
       "      <td>7774800</td>\n",
       "    </tr>\n",
       "    <tr>\n",
       "      <th>3</th>\n",
       "      <td>2013-07-25</td>\n",
       "      <td>10.493333</td>\n",
       "      <td>10.575000</td>\n",
       "      <td>10.426667</td>\n",
       "      <td>10.550000</td>\n",
       "      <td>10.550000</td>\n",
       "      <td>4194600</td>\n",
       "    </tr>\n",
       "    <tr>\n",
       "      <th>4</th>\n",
       "      <td>2013-07-26</td>\n",
       "      <td>10.446667</td>\n",
       "      <td>10.530000</td>\n",
       "      <td>10.331667</td>\n",
       "      <td>10.480000</td>\n",
       "      <td>10.480000</td>\n",
       "      <td>3279000</td>\n",
       "    </tr>\n",
       "    <tr>\n",
       "      <th>...</th>\n",
       "      <td>...</td>\n",
       "      <td>...</td>\n",
       "      <td>...</td>\n",
       "      <td>...</td>\n",
       "      <td>...</td>\n",
       "      <td>...</td>\n",
       "      <td>...</td>\n",
       "    </tr>\n",
       "    <tr>\n",
       "      <th>2513</th>\n",
       "      <td>2023-07-17</td>\n",
       "      <td>57.060001</td>\n",
       "      <td>57.840000</td>\n",
       "      <td>57.000000</td>\n",
       "      <td>57.290001</td>\n",
       "      <td>57.290001</td>\n",
       "      <td>4087900</td>\n",
       "    </tr>\n",
       "    <tr>\n",
       "      <th>2514</th>\n",
       "      <td>2023-07-18</td>\n",
       "      <td>57.270000</td>\n",
       "      <td>57.400002</td>\n",
       "      <td>56.000000</td>\n",
       "      <td>56.549999</td>\n",
       "      <td>56.549999</td>\n",
       "      <td>5032000</td>\n",
       "    </tr>\n",
       "    <tr>\n",
       "      <th>2515</th>\n",
       "      <td>2023-07-19</td>\n",
       "      <td>56.560001</td>\n",
       "      <td>57.470001</td>\n",
       "      <td>56.549999</td>\n",
       "      <td>57.250000</td>\n",
       "      <td>57.250000</td>\n",
       "      <td>4206300</td>\n",
       "    </tr>\n",
       "    <tr>\n",
       "      <th>2516</th>\n",
       "      <td>2023-07-20</td>\n",
       "      <td>57.209999</td>\n",
       "      <td>57.759998</td>\n",
       "      <td>57.080002</td>\n",
       "      <td>57.580002</td>\n",
       "      <td>57.580002</td>\n",
       "      <td>4900900</td>\n",
       "    </tr>\n",
       "    <tr>\n",
       "      <th>2517</th>\n",
       "      <td>2023-07-21</td>\n",
       "      <td>57.910000</td>\n",
       "      <td>58.439999</td>\n",
       "      <td>57.910000</td>\n",
       "      <td>58.099998</td>\n",
       "      <td>58.099998</td>\n",
       "      <td>12346500</td>\n",
       "    </tr>\n",
       "  </tbody>\n",
       "</table>\n",
       "<p>2518 rows × 7 columns</p>\n",
       "</div>"
      ],
      "text/plain": [
       "           Date       Open       High        Low      Close  Adj Close  \\\n",
       "0    2013-07-22  10.660000  10.805000  10.630000  10.771667  10.771667   \n",
       "1    2013-07-23  10.768333  10.813333  10.648333  10.775000  10.775000   \n",
       "2    2013-07-24  10.775000  10.806667  10.398333  10.538333  10.538333   \n",
       "3    2013-07-25  10.493333  10.575000  10.426667  10.550000  10.550000   \n",
       "4    2013-07-26  10.446667  10.530000  10.331667  10.480000  10.480000   \n",
       "...         ...        ...        ...        ...        ...        ...   \n",
       "2513 2023-07-17  57.060001  57.840000  57.000000  57.290001  57.290001   \n",
       "2514 2023-07-18  57.270000  57.400002  56.000000  56.549999  56.549999   \n",
       "2515 2023-07-19  56.560001  57.470001  56.549999  57.250000  57.250000   \n",
       "2516 2023-07-20  57.209999  57.759998  57.080002  57.580002  57.580002   \n",
       "2517 2023-07-21  57.910000  58.439999  57.910000  58.099998  58.099998   \n",
       "\n",
       "        Volume  \n",
       "0      9570600  \n",
       "1      5768400  \n",
       "2      7774800  \n",
       "3      4194600  \n",
       "4      3279000  \n",
       "...        ...  \n",
       "2513   4087900  \n",
       "2514   5032000  \n",
       "2515   4206300  \n",
       "2516   4900900  \n",
       "2517  12346500  \n",
       "\n",
       "[2518 rows x 7 columns]"
      ]
     },
     "execution_count": 16,
     "metadata": {},
     "output_type": "execute_result"
    }
   ],
   "source": [
    "path = \"https://query1.finance.yahoo.com/v7/finance/download/MNST?period1=1374451200&period2=1689984000&interval=1d&events=history&includeAdjustedClose=true\"\n",
    "dataset = pd.read_csv(path)\n",
    "dataset[\"Date\"]= pd.to_datetime(dataset[\"Date\"], format=\"%Y-%m-%d\")\n",
    "dataset"
   ]
  },
  {
   "cell_type": "code",
   "execution_count": 17,
   "metadata": {},
   "outputs": [
    {
     "name": "stdout",
     "output_type": "stream",
     "text": [
      "<class 'pandas.core.frame.DataFrame'>\n",
      "RangeIndex: 2518 entries, 0 to 2517\n",
      "Data columns (total 7 columns):\n",
      " #   Column     Non-Null Count  Dtype         \n",
      "---  ------     --------------  -----         \n",
      " 0   Date       2518 non-null   datetime64[ns]\n",
      " 1   Open       2518 non-null   float64       \n",
      " 2   High       2518 non-null   float64       \n",
      " 3   Low        2518 non-null   float64       \n",
      " 4   Close      2518 non-null   float64       \n",
      " 5   Adj Close  2518 non-null   float64       \n",
      " 6   Volume     2518 non-null   int64         \n",
      "dtypes: datetime64[ns](1), float64(5), int64(1)\n",
      "memory usage: 137.8 KB\n"
     ]
    }
   ],
   "source": [
    "dataset.info()"
   ]
  },
  {
   "cell_type": "code",
   "execution_count": 18,
   "metadata": {},
   "outputs": [
    {
     "data": {
      "text/plain": [
       "(2518, 7)"
      ]
     },
     "execution_count": 18,
     "metadata": {},
     "output_type": "execute_result"
    }
   ],
   "source": [
    "dataset.shape"
   ]
  },
  {
   "cell_type": "code",
   "execution_count": 19,
   "metadata": {},
   "outputs": [
    {
     "data": {
      "image/png": "[encoded data removed]",
      "text/plain": [
       "<Figure size 1600x600 with 1 Axes>"
      ]
     },
     "metadata": {},
     "output_type": "display_data"
    }
   ],
   "source": [
    "# Visualization of stock close price in time\n",
    "plt.figure(figsize=(16,6))\n",
    "\n",
    "plt.plot(dataset[\"Date\"], dataset[\"Close\"], color=\"green\", linewidth=2.5)\n",
    "plt.xlim(dataset[\"Date\"].min(), dataset[\"Date\"].max())\n",
    "plt.ylim(0, dataset[\"Close\"].max()*1.05)\n",
    "plt.xlabel(\"Date\")\n",
    "plt.xlabel(\"Price\")\n",
    "plt.title(\"Monster Beverage Corporation (MNST)\")\n",
    "\n",
    "plt.show()"
   ]
  },
  {
   "cell_type": "code",
   "execution_count": 21,
   "metadata": {},
   "outputs": [
    {
     "data": {
      "text/plain": [
       "array([[10.771667],\n",
       "       [10.775   ],\n",
       "       [10.538333],\n",
       "       ...,\n",
       "       [57.25    ],\n",
       "       [57.580002],\n",
       "       [58.099998]])"
      ]
     },
     "execution_count": 21,
     "metadata": {},
     "output_type": "execute_result"
    }
   ],
   "source": [
    "# Converstion of dataFrame to np array with Close price\n",
    "data_array = dataset[[\"Close\"]].values.copy()\n",
    "data_array"
   ]
  },
  {
   "cell_type": "code",
   "execution_count": 22,
   "metadata": {},
   "outputs": [
    {
     "data": {
      "text/plain": [
       "2267"
      ]
     },
     "execution_count": 22,
     "metadata": {},
     "output_type": "execute_result"
    }
   ],
   "source": [
    "train_size = 0.9\n",
    "\n",
    "train_data_size = math.ceil(dataset.shape[0] * train_size)\n",
    "train_data_size"
   ]
  },
  {
   "cell_type": "code",
   "execution_count": 23,
   "metadata": {},
   "outputs": [
    {
     "data": {
      "text/plain": [
       "array([[0.04214424],\n",
       "       [0.04220917],\n",
       "       [0.03759862],\n",
       "       ...,\n",
       "       [0.94759572],\n",
       "       [0.95402454],\n",
       "       [0.96415466]])"
      ]
     },
     "execution_count": 23,
     "metadata": {},
     "output_type": "execute_result"
    }
   ],
   "source": [
    "# scaling close price\n",
    "\n",
    "scaler = MinMaxScaler(feature_range=(0,1))\n",
    "scaled_data_array = scaler.fit_transform(data_array)\n",
    "\n",
    "scaled_data_array"
   ]
  },
  {
   "cell_type": "code",
   "execution_count": 24,
   "metadata": {},
   "outputs": [
    {
     "data": {
      "text/plain": [
       "array([[0.04214424],\n",
       "       [0.04220917],\n",
       "       [0.03759862],\n",
       "       ...,\n",
       "       [0.76992763],\n",
       "       [0.77129131],\n",
       "       [0.76515469]])"
      ]
     },
     "execution_count": 24,
     "metadata": {},
     "output_type": "execute_result"
    }
   ],
   "source": [
    "# Creatin train dataset\n",
    "train_data = scaled_data_array[:train_data_size,:].copy()\n",
    "train_data"
   ]
  },
  {
   "cell_type": "code",
   "execution_count": 25,
   "metadata": {},
   "outputs": [
    {
     "name": "stdout",
     "output_type": "stream",
     "text": [
      "20\n",
      "[0.04214424 0.04220917 0.03759862 0.03782591 0.03646223 0.02909187\n",
      " 0.02798793 0.03032567 0.03529336 0.0380532  0.03828046 0.03678692\n",
      " 0.03509855 0.03837787 0.03912466 0.03607261 0.03295562 0.02896199\n",
      " 0.02250073 0.02139681]\n",
      "0.024221578937258736\n",
      "\n",
      "21\n",
      "[0.04220917 0.03759862 0.03782591 0.03646223 0.02909187 0.02798793\n",
      " 0.03032567 0.03529336 0.0380532  0.03828046 0.03678692 0.03509855\n",
      " 0.03837787 0.03912466 0.03607261 0.03295562 0.02896199 0.02250073\n",
      " 0.02139681 0.02422158]\n",
      "0.02464365758165729\n",
      "\n"
     ]
    }
   ],
   "source": [
    "# X and y variables\n",
    "X_train = []\n",
    "y_train = []\n",
    "\n",
    "for i in range(20, len(train_data)):\n",
    "    X_train.append(train_data[i-20:i, 0])\n",
    "    y_train.append(train_data[i, 0])\n",
    "    if i <= 21:\n",
    "        print(i)\n",
    "        print(X_train[i-20])\n",
    "        print(y_train[i-20])\n",
    "        print()"
   ]
  },
  {
   "cell_type": "code",
   "execution_count": 26,
   "metadata": {},
   "outputs": [],
   "source": [
    "# Transform X_train and y_train in to np array\n",
    "X_train_array, y_train_array = np.array(X_train), np.array(y_train)"
   ]
  },
  {
   "cell_type": "code",
   "execution_count": 27,
   "metadata": {},
   "outputs": [
    {
     "data": {
      "text/plain": [
       "array([0.02422158, 0.02464366, 0.02383196, ..., 0.76992763, 0.77129131,\n",
       "       0.76515469])"
      ]
     },
     "execution_count": 27,
     "metadata": {},
     "output_type": "execute_result"
    }
   ],
   "source": [
    "y_train_array"
   ]
  },
  {
   "cell_type": "code",
   "execution_count": 28,
   "metadata": {},
   "outputs": [
    {
     "data": {
      "text/plain": [
       "array([[0.04214424, 0.04220917, 0.03759862, ..., 0.02896199, 0.02250073,\n",
       "        0.02139681],\n",
       "       [0.04220917, 0.03759862, 0.03782591, ..., 0.02250073, 0.02139681,\n",
       "        0.02422158],\n",
       "       [0.03759862, 0.03782591, 0.03646223, ..., 0.02139681, 0.02422158,\n",
       "        0.02464366],\n",
       "       ...,\n",
       "       [0.69063934, 0.71713365, 0.71615961, ..., 0.78444107, 0.77859674,\n",
       "        0.75784926],\n",
       "       [0.71713365, 0.71615961, 0.73018606, ..., 0.77859674, 0.75784926,\n",
       "        0.76992763],\n",
       "       [0.71615961, 0.73018606, 0.75356346, ..., 0.75784926, 0.76992763,\n",
       "        0.77129131]])"
      ]
     },
     "execution_count": 28,
     "metadata": {},
     "output_type": "execute_result"
    }
   ],
   "source": [
    "X_train_array"
   ]
  },
  {
   "cell_type": "code",
   "execution_count": 29,
   "metadata": {},
   "outputs": [
    {
     "data": {
      "text/plain": [
       "(2247, 20)"
      ]
     },
     "execution_count": 29,
     "metadata": {},
     "output_type": "execute_result"
    }
   ],
   "source": [
    "X_train_array.shape"
   ]
  },
  {
   "cell_type": "code",
   "execution_count": 30,
   "metadata": {},
   "outputs": [
    {
     "name": "stdout",
     "output_type": "stream",
     "text": [
      "array([[[0.04214424],\n",
      "        [0.04220917],\n",
      "        [0.03759862],\n",
      "        [0.03782591],\n",
      "        [0.03646223],\n",
      "        [0.02909187],\n",
      "        [0.02798793],\n",
      "        [0.03032567],\n",
      "        [0.03529336],\n",
      "        [0.0380532 ],\n",
      "        [0.03828046],\n",
      "        [0.03678692],\n",
      "        [0.03509855],\n",
      "        [0.03837787],\n",
      "        [0.03912466],\n",
      "        [0.03607261],\n",
      "        [0.03295562],\n",
      "        [0.02896199],\n",
      "        [0.02250073],\n",
      "        [0.02139681]],\n",
      "\n",
      "       [[0.04220917],\n",
      "        [0.03759862],\n",
      "        [0.03782591],\n",
      "        [0.03646223],\n",
      "        [0.02909187],\n",
      "        [0.02798793],\n",
      "        [0.03032567],\n",
      "        [0.03529336],\n",
      "        [0.0380532 ],\n",
      "        [0.03828046],\n",
      "        [0.03678692],\n",
      "        [0.03509855],\n",
      "        [0.03837787],\n",
      "        [0.03912466],\n",
      "        [0.03607261],\n",
      "        [0.03295562],\n",
      "        [0.02896199],\n",
      "        [0.02250073],\n",
      "        [0.02139681],\n",
      "        [0.02422158]]])\n",
      "\n",
      " (2247, 20, 1)\n"
     ]
    }
   ],
   "source": [
    "# Changing shape of frame\n",
    "X_train_array = np.reshape(X_train_array, (X_train_array.shape[0], X_train_array.shape[1],1))\n",
    "\n",
    "from pprint import pprint\n",
    "pprint(X_train_array[:2])\n",
    "print(\"\\n\", X_train_array.shape)\n"
   ]
  },
  {
   "cell_type": "code",
   "execution_count": 31,
   "metadata": {},
   "outputs": [
    {
     "name": "stdout",
     "output_type": "stream",
     "text": [
      "Model: \"sequential\"\n",
      "_________________________________________________________________\n",
      " Layer (type)                Output Shape              Param #   \n",
      "=================================================================\n",
      " lstm (LSTM)                 (None, 20, 40)            6720      \n",
      "                                                                 \n",
      " lstm_1 (LSTM)               (None, 40)                12960     \n",
      "                                                                 \n",
      " dense (Dense)               (None, 20)                820       \n",
      "                                                                 \n",
      " dense_1 (Dense)             (None, 1)                 21        \n",
      "                                                                 \n",
      "=================================================================\n",
      "Total params: 20,521\n",
      "Trainable params: 20,521\n",
      "Non-trainable params: 0\n",
      "_________________________________________________________________\n"
     ]
    }
   ],
   "source": [
    "model_01 = Sequential()\n",
    "model_01.add(LSTM(40, return_sequences=True, input_shape=(X_train_array.shape[1], 1)))\n",
    "model_01.add(LSTM(40))\n",
    "model_01.add(Dense(20, activation = \"relu\"))\n",
    "model_01.add(Dense(1))\n",
    "\n",
    "model_01.summary()"
   ]
  },
  {
   "cell_type": "code",
   "execution_count": 33,
   "metadata": {},
   "outputs": [
    {
     "name": "stdout",
     "output_type": "stream",
     "text": [
      "Epoch 1/10\n",
      "57/57 [==============================] - 12s 66ms/step - loss: 0.0016 - val_loss: 0.0011\n",
      "Epoch 2/10\n",
      "57/57 [==============================] - 2s 39ms/step - loss: 0.0022 - val_loss: 9.7994e-04\n",
      "Epoch 3/10\n",
      "57/57 [==============================] - 2s 35ms/step - loss: 5.9290e-04 - val_loss: 8.9863e-04\n",
      "Epoch 4/10\n",
      "57/57 [==============================] - 2s 35ms/step - loss: 8.9768e-04 - val_loss: 8.5222e-04\n",
      "Epoch 5/10\n",
      "57/57 [==============================] - 2s 39ms/step - loss: 5.6929e-04 - val_loss: 8.5381e-04\n",
      "Epoch 6/10\n",
      "57/57 [==============================] - 2s 33ms/step - loss: 0.0010 - val_loss: 7.4527e-04\n",
      "Epoch 7/10\n",
      "57/57 [==============================] - 2s 34ms/step - loss: 6.8093e-04 - val_loss: 8.3267e-04\n",
      "Epoch 8/10\n",
      "57/57 [==============================] - 2s 40ms/step - loss: 0.0014 - val_loss: 7.2988e-04\n",
      "Epoch 9/10\n",
      "57/57 [==============================] - 2s 33ms/step - loss: 7.5281e-04 - val_loss: 9.7779e-04\n",
      "Epoch 10/10\n",
      "57/57 [==============================] - 2s 41ms/step - loss: 0.0010 - val_loss: 7.4555e-04\n"
     ]
    }
   ],
   "source": [
    "model_01.compile(optimizer=\"adam\", loss=\"mean_squared_error\")\n",
    "history_1 = model_01.fit(X_train_array, y_train_array, batch_size=32, epochs=10, validation_split=0.2, shuffle=False)"
   ]
  },
  {
   "cell_type": "code",
   "execution_count": 34,
   "metadata": {},
   "outputs": [
    {
     "name": "stdout",
     "output_type": "stream",
     "text": [
      "[array([0.73018606, 0.75356346, 0.74995943, 0.71684145, 0.74158252,\n",
      "       0.73525112, 0.75366081, 0.76846653, 0.78093446, 0.77703821,\n",
      "       0.78181115, 0.77577196, 0.77470049, 0.77518756, 0.78444107,\n",
      "       0.77859674, 0.75784926, 0.76992763, 0.77129131, 0.76515469])]\n",
      "[47.535]\n",
      "\n"
     ]
    }
   ],
   "source": [
    "test_data_scaled = scaled_data_array[train_data_size-20:, :]\n",
    "test_data = data_array[train_data_size-20:, :]\n",
    "\n",
    "X_test = []\n",
    "y_test = []\n",
    "\n",
    "for i in range(20, len(test_data_scaled)):\n",
    "    X_test.append(test_data_scaled[i-20:i, 0])\n",
    "    y_test.append(test_data[i, 0])\n",
    "    if i <= 20:\n",
    "        print(X_test)\n",
    "        print(y_test)\n",
    "        print()\n",
    "\n",
    "X_test, y_test = np.array(X_test), np.array(y_test)\n",
    "\n",
    "X_test = np.reshape(X_test, (X_test.shape[0], X_test.shape[1],1))"
   ]
  },
  {
   "cell_type": "code",
   "execution_count": 35,
   "metadata": {},
   "outputs": [
    {
     "data": {
      "text/plain": [
       "(251, 20, 1)"
      ]
     },
     "execution_count": 35,
     "metadata": {},
     "output_type": "execute_result"
    }
   ],
   "source": [
    "X_test.shape"
   ]
  },
  {
   "cell_type": "code",
   "execution_count": 37,
   "metadata": {},
   "outputs": [
    {
     "name": "stdout",
     "output_type": "stream",
     "text": [
      "8/8 [==============================] - 2s 9ms/step\n"
     ]
    },
    {
     "data": {
      "text/plain": [
       "array([[53.691765],\n",
       "       [53.59208 ],\n",
       "       [53.468163],\n",
       "       [53.372013],\n",
       "       [53.31519 ],\n",
       "       [53.304256],\n",
       "       [53.313812],\n",
       "       [53.30409 ],\n",
       "       [53.31989 ],\n",
       "       [53.357002]], dtype=float32)"
      ]
     },
     "execution_count": 37,
     "metadata": {},
     "output_type": "execute_result"
    }
   ],
   "source": [
    "forecast_test = model_01.predict(X_test, batch_size=32)\n",
    "forecast_test = scaler.inverse_transform(forecast_test)\n",
    "forecast_test[-10:]"
   ]
  }
 ],
 "metadata": {
  "kernelspec": {
   "display_name": "ML_DS_PY_3.10",
   "language": "python",
   "name": "python3"
  },
  "language_info": {
   "codemirror_mode": {
    "name": "ipython",
    "version": 3
   },
   "file_extension": ".py",
   "mimetype": "text/x-python",
   "name": "python",
   "nbconvert_exporter": "python",
   "pygments_lexer": "ipython3",
   "version": "3.10.12"
  },
  "orig_nbformat": 4,
  "vscode": {
   "interpreter": {
    "hash": "2c899a26b3d1f1de78a718fd083e2109d4ef565fd57fdde2e8c4daefca7b825f"
   }
  }
 },
 "nbformat": 4,
 "nbformat_minor": 2
}
